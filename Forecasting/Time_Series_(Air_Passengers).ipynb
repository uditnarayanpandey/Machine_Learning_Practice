{
  "nbformat": 4,
  "nbformat_minor": 0,
  "metadata": {
    "colab": {
      "name": "Time Series (Air Passengers).ipynb",
      "provenance": [],
      "authorship_tag": "ABX9TyMGqiU6av9ChaQQrkr0GzQv",
      "include_colab_link": true
    },
    "kernelspec": {
      "name": "python3",
      "display_name": "Python 3"
    },
    "language_info": {
      "name": "python"
    }
  },
  "cells": [
    {
      "cell_type": "markdown",
      "metadata": {
        "id": "view-in-github",
        "colab_type": "text"
      },
      "source": [
        "<a href=\"https://colab.research.google.com/github/uditnarayanpandey/Machine_Learning_Practice/blob/Master/Forecasting/Time_Series_(Air_Passengers).ipynb\" target=\"_parent\"><img src=\"https://colab.research.google.com/assets/colab-badge.svg\" alt=\"Open In Colab\"/></a>"
      ]
    },
    {
      "cell_type": "code",
      "execution_count": null,
      "metadata": {
        "id": "LpBhg4Kcc77r"
      },
      "outputs": [],
      "source": [
        ""
      ]
    }
  ]
}