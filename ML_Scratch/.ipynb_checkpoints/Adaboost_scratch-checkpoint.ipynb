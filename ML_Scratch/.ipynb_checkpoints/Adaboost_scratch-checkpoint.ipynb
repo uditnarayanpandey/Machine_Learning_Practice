{
 "cells": [
  {
   "cell_type": "markdown",
   "id": "629ecdb3",
   "metadata": {},
   "source": [
    "# Adaboost From Scratch"
   ]
  },
  {
   "cell_type": "markdown",
   "id": "1f74f167",
   "metadata": {},
   "source": [
    "AdaBoost, short for Adaptive Boosting, is a statistical classification meta-algorithm formulated by Yoav Freund and Robert Schapire in 1995, who won the 2003 Gödel Prize for their work. It can be used in conjunction with many other types of learning algorithms to improve performance. The output of the other learning algorithms ('weak learners') is combined into a weighted sum that represents the final output of the boosted classifier. Usually, AdaBoost is presented for binary classification, although it can be generalized to multiple classes or bounded intervals on the real line"
   ]
  },
  {
   "cell_type": "code",
   "execution_count": 231,
   "id": "84234aa3",
   "metadata": {},
   "outputs": [
    {
     "name": "stdout",
     "output_type": "stream",
     "text": [
      "Requirement already satisfied: mlxtend in /home/udit/anaconda3/lib/python3.8/site-packages (0.20.0)\n",
      "Requirement already satisfied: matplotlib>=3.0.0 in /home/udit/anaconda3/lib/python3.8/site-packages (from mlxtend) (3.3.4)\n",
      "Requirement already satisfied: setuptools in /home/udit/anaconda3/lib/python3.8/site-packages (from mlxtend) (52.0.0.post20210125)\n",
      "Requirement already satisfied: joblib>=0.13.2 in /home/udit/anaconda3/lib/python3.8/site-packages (from mlxtend) (1.0.1)\n",
      "Requirement already satisfied: pandas>=0.24.2 in /home/udit/.local/lib/python3.8/site-packages (from mlxtend) (1.3.2)\n",
      "Requirement already satisfied: scikit-learn>=1.0.2 in /home/udit/anaconda3/lib/python3.8/site-packages (from mlxtend) (1.1.2)\n",
      "Requirement already satisfied: scipy>=1.2.1 in /home/udit/anaconda3/lib/python3.8/site-packages (from mlxtend) (1.6.2)\n",
      "Requirement already satisfied: numpy>=1.16.2 in /home/udit/anaconda3/lib/python3.8/site-packages (from mlxtend) (1.20.1)\n",
      "Requirement already satisfied: cycler>=0.10 in /home/udit/anaconda3/lib/python3.8/site-packages (from matplotlib>=3.0.0->mlxtend) (0.10.0)\n",
      "Requirement already satisfied: pillow>=6.2.0 in /home/udit/anaconda3/lib/python3.8/site-packages (from matplotlib>=3.0.0->mlxtend) (8.2.0)\n",
      "Requirement already satisfied: python-dateutil>=2.1 in /home/udit/anaconda3/lib/python3.8/site-packages (from matplotlib>=3.0.0->mlxtend) (2.8.1)\n",
      "Requirement already satisfied: pyparsing!=2.0.4,!=2.1.2,!=2.1.6,>=2.0.3 in /home/udit/anaconda3/lib/python3.8/site-packages (from matplotlib>=3.0.0->mlxtend) (2.4.7)\n",
      "Requirement already satisfied: kiwisolver>=1.0.1 in /home/udit/anaconda3/lib/python3.8/site-packages (from matplotlib>=3.0.0->mlxtend) (1.3.1)\n",
      "Requirement already satisfied: six in /home/udit/anaconda3/lib/python3.8/site-packages (from cycler>=0.10->matplotlib>=3.0.0->mlxtend) (1.15.0)\n",
      "Requirement already satisfied: pytz>=2017.3 in /home/udit/anaconda3/lib/python3.8/site-packages (from pandas>=0.24.2->mlxtend) (2021.1)\n",
      "Requirement already satisfied: threadpoolctl>=2.0.0 in /home/udit/anaconda3/lib/python3.8/site-packages (from scikit-learn>=1.0.2->mlxtend) (2.1.0)\n"
     ]
    }
   ],
   "source": [
    "#package to show the decision boundary\n",
    "!pip install mlxtend"
   ]
  },
  {
   "cell_type": "code",
   "execution_count": 208,
   "id": "49299675",
   "metadata": {},
   "outputs": [],
   "source": [
    "#Importing basic packages for dataframe manipulation\n",
    "import pandas as pd\n",
    "import numpy as np\n",
    "\n",
    "from mlxtend.plotting import plot_decision_regions\n",
    "from sklearn.datasets import make_classification"
   ]
  },
  {
   "cell_type": "markdown",
   "id": "9ef3d49e",
   "metadata": {},
   "source": [
    "# Creating sample dataframe (Binary classification)"
   ]
  },
  {
   "cell_type": "code",
   "execution_count": 209,
   "id": "8773f0c6",
   "metadata": {},
   "outputs": [],
   "source": [
    "\n",
    "X1 = [1,2,3,4,5,6,6,7,9,9]\n",
    "X2 = [5,3,6,8,1,9,5,8,9,2]\n",
    "df_labels = [1,1,0,1,0,1,0,1,0,0]\n",
    "\n",
    "df = pd.DataFrame({'X1':X1, 'X2':X2, 'target':df_labels})"
   ]
  },
  {
   "cell_type": "code",
   "execution_count": 210,
   "id": "c2ac8f8e",
   "metadata": {},
   "outputs": [
    {
     "data": {
      "text/html": [
       "<div>\n",
       "<style scoped>\n",
       "    .dataframe tbody tr th:only-of-type {\n",
       "        vertical-align: middle;\n",
       "    }\n",
       "\n",
       "    .dataframe tbody tr th {\n",
       "        vertical-align: top;\n",
       "    }\n",
       "\n",
       "    .dataframe thead th {\n",
       "        text-align: right;\n",
       "    }\n",
       "</style>\n",
       "<table border=\"1\" class=\"dataframe\">\n",
       "  <thead>\n",
       "    <tr style=\"text-align: right;\">\n",
       "      <th></th>\n",
       "      <th>X1</th>\n",
       "      <th>X2</th>\n",
       "      <th>target</th>\n",
       "    </tr>\n",
       "  </thead>\n",
       "  <tbody>\n",
       "    <tr>\n",
       "      <th>0</th>\n",
       "      <td>1</td>\n",
       "      <td>5</td>\n",
       "      <td>1</td>\n",
       "    </tr>\n",
       "    <tr>\n",
       "      <th>1</th>\n",
       "      <td>2</td>\n",
       "      <td>3</td>\n",
       "      <td>1</td>\n",
       "    </tr>\n",
       "    <tr>\n",
       "      <th>2</th>\n",
       "      <td>3</td>\n",
       "      <td>6</td>\n",
       "      <td>0</td>\n",
       "    </tr>\n",
       "    <tr>\n",
       "      <th>3</th>\n",
       "      <td>4</td>\n",
       "      <td>8</td>\n",
       "      <td>1</td>\n",
       "    </tr>\n",
       "    <tr>\n",
       "      <th>4</th>\n",
       "      <td>5</td>\n",
       "      <td>1</td>\n",
       "      <td>0</td>\n",
       "    </tr>\n",
       "    <tr>\n",
       "      <th>5</th>\n",
       "      <td>6</td>\n",
       "      <td>9</td>\n",
       "      <td>1</td>\n",
       "    </tr>\n",
       "    <tr>\n",
       "      <th>6</th>\n",
       "      <td>6</td>\n",
       "      <td>5</td>\n",
       "      <td>0</td>\n",
       "    </tr>\n",
       "    <tr>\n",
       "      <th>7</th>\n",
       "      <td>7</td>\n",
       "      <td>8</td>\n",
       "      <td>1</td>\n",
       "    </tr>\n",
       "    <tr>\n",
       "      <th>8</th>\n",
       "      <td>9</td>\n",
       "      <td>9</td>\n",
       "      <td>0</td>\n",
       "    </tr>\n",
       "    <tr>\n",
       "      <th>9</th>\n",
       "      <td>9</td>\n",
       "      <td>2</td>\n",
       "      <td>0</td>\n",
       "    </tr>\n",
       "  </tbody>\n",
       "</table>\n",
       "</div>"
      ],
      "text/plain": [
       "   X1  X2  target\n",
       "0   1   5       1\n",
       "1   2   3       1\n",
       "2   3   6       0\n",
       "3   4   8       1\n",
       "4   5   1       0\n",
       "5   6   9       1\n",
       "6   6   5       0\n",
       "7   7   8       1\n",
       "8   9   9       0\n",
       "9   9   2       0"
      ]
     },
     "execution_count": 210,
     "metadata": {},
     "output_type": "execute_result"
    }
   ],
   "source": [
    "df"
   ]
  },
  {
   "cell_type": "markdown",
   "id": "55e83f60",
   "metadata": {},
   "source": [
    "# Visualizing Data"
   ]
  },
  {
   "cell_type": "code",
   "execution_count": 211,
   "id": "f9e52fac",
   "metadata": {},
   "outputs": [
    {
     "data": {
      "text/plain": [
       "<AxesSubplot:xlabel='X1', ylabel='X2'>"
      ]
     },
     "execution_count": 211,
     "metadata": {},
     "output_type": "execute_result"
    },
    {
     "data": {
      "image/png": "[encoded data removed]",
      "text/plain": [
       "<Figure size 432x288 with 1 Axes>"
      ]
     },
     "metadata": {
      "needs_background": "light"
     },
     "output_type": "display_data"
    }
   ],
   "source": [
    "import seaborn as sns\n",
    "sns.scatterplot(x=df['X1'], y=df['X2'], hue=df['target'])"
   ]
  },
  {
   "cell_type": "markdown",
   "id": "70694b8d",
   "metadata": {},
   "source": [
    "# Custom Functions"
   ]
  },
  {
   "cell_type": "code",
   "execution_count": 212,
   "id": "ec604edf",
   "metadata": {},
   "outputs": [],
   "source": [
    "def calculate_model_weight(error):\n",
    "    return 0.5*np.log((1-error)/(error+ .000000001))\n",
    "\n",
    "def update_row_weights(row, alpha):\n",
    "    if row['target'] == row['y_pred']:\n",
    "        return row['weights'] * np.exp(-alpha)\n",
    "    else:\n",
    "        return row['weights'] * np.exp(alpha)\n",
    "    \n",
    "    \n",
    "def create_new_dataset(df):\n",
    "    indices = []\n",
    "    \n",
    "    for i in range(df.shape[0]):\n",
    "        a = np.random.random()\n",
    "        for index,row in df.iterrows():\n",
    "            if row['cumsum_upper'] > a and a > row['cumsum_lower']:\n",
    "                indices.append(index)\n",
    "    return indices"
   ]
  },
  {
   "cell_type": "markdown",
   "id": "644a3362",
   "metadata": {},
   "source": [
    "# Adaboost from scratch"
   ]
  },
  {
   "cell_type": "code",
   "execution_count": 216,
   "id": "9e540e05",
   "metadata": {},
   "outputs": [],
   "source": [
    "from sklearn.tree import DecisionTreeClassifier\n",
    "alpha_values = []\n",
    "\n",
    "\n",
    "def custom_adaboost(df, total=3):\n",
    "    df['weights'] = 1/df.shape[0]\n",
    "\n",
    "    for i in range(1, total+1):\n",
    "    #creating decison tree stumps with max-depth = 1\n",
    "        globals()[f\"dt{i}\"] = DecisionTreeClassifier(max_depth=1, random_state=10)\n",
    "        #extraing X & Y for training\n",
    "        X = df.iloc[:,0:2].values\n",
    "        y = df.iloc[:, 2].values\n",
    "        eval(f'dt{i}').fit(X, y)\n",
    "        plot_decision_regions(X, y, clf=eval(f'dt{i}'), legend=2)\n",
    "\n",
    "        df['y_pred'] = eval(f'dt{i}').predict(X)\n",
    "\n",
    "        count_error = df[df.target != df.y_pred]['weights'].sum()\n",
    "        print('==>'*15, count_error)\n",
    "        alpha = calculate_model_weight(count_error)\n",
    "        alpha_values.append(alpha)\n",
    "        df['updated_weights'] = df.apply(update_row_weights, alpha = alpha, axis=1)\n",
    "        df['updated_weights'] = df['updated_weights']/df['updated_weights'].sum()\n",
    "        df['cumsum_upper'] = np.cumsum(df['updated_weights'])\n",
    "        df['cumsum_lower'] = df['cumsum_upper'] - df['updated_weights']\n",
    "        df['diff'] = df['cumsum_upper'] - df['cumsum_lower']\n",
    "        \n",
    "        \n",
    "        index_values = create_new_dataset(df)\n",
    "        print(df, '\\n', index_values)\n",
    "        second_df = df.iloc[index_values, [0,1,2,3]]\n",
    "        df = second_df\n",
    "    return df"
   ]
  },
  {
   "cell_type": "code",
   "execution_count": 217,
   "id": "dcc44b83",
   "metadata": {},
   "outputs": [
    {
     "name": "stdout",
     "output_type": "stream",
     "text": [
      "==>==>==>==>==>==>==>==>==>==>==>==>==>==>==> 0.30000000000000004\n",
      "   X1  X2  target  weights  y_pred  updated_weights  cumsum_upper  \\\n",
      "0   1   5       1      0.1       1         0.071429      0.071429   \n",
      "1   2   3       1      0.1       1         0.071429      0.142857   \n",
      "2   3   6       0      0.1       1         0.166667      0.309524   \n",
      "3   4   8       1      0.1       1         0.071429      0.380952   \n",
      "4   5   1       0      0.1       0         0.071429      0.452381   \n",
      "5   6   9       1      0.1       1         0.071429      0.523810   \n",
      "6   6   5       0      0.1       1         0.166667      0.690476   \n",
      "7   7   8       1      0.1       1         0.071429      0.761905   \n",
      "8   9   9       0      0.1       1         0.166667      0.928571   \n",
      "9   9   2       0      0.1       0         0.071429      1.000000   \n",
      "\n",
      "   cumsum_lower      diff  \n",
      "0      0.000000  0.071429  \n",
      "1      0.071429  0.071429  \n",
      "2      0.142857  0.166667  \n",
      "3      0.309524  0.071429  \n",
      "4      0.380952  0.071429  \n",
      "5      0.452381  0.071429  \n",
      "6      0.523810  0.166667  \n",
      "7      0.690476  0.071429  \n",
      "8      0.761905  0.166667  \n",
      "9      0.928571  0.071429   \n",
      " [2, 6, 1, 2, 9, 2, 1, 8, 6, 4]\n",
      "==>==>==>==>==>==>==>==>==>==>==>==>==>==>==> 0.0\n",
      "   X1  X2  target  weights  y_pred  updated_weights  cumsum_upper  \\\n",
      "2   3   6       0      0.1       0              0.1           0.1   \n",
      "6   6   5       0      0.1       0              0.1           0.2   \n",
      "1   2   3       1      0.1       1              0.1           0.3   \n",
      "2   3   6       0      0.1       0              0.1           0.4   \n",
      "9   9   2       0      0.1       0              0.1           0.5   \n",
      "2   3   6       0      0.1       0              0.1           0.6   \n",
      "1   2   3       1      0.1       1              0.1           0.7   \n",
      "8   9   9       0      0.1       0              0.1           0.8   \n",
      "6   6   5       0      0.1       0              0.1           0.9   \n",
      "4   5   1       0      0.1       0              0.1           1.0   \n",
      "\n",
      "   cumsum_lower  diff  \n",
      "2           0.0   0.1  \n",
      "6           0.1   0.1  \n",
      "1           0.2   0.1  \n",
      "2           0.3   0.1  \n",
      "9           0.4   0.1  \n",
      "2           0.5   0.1  \n",
      "1           0.6   0.1  \n",
      "8           0.7   0.1  \n",
      "6           0.8   0.1  \n",
      "4           0.9   0.1   \n",
      " [2, 4, 2, 2, 9, 8, 4, 1, 4, 4]\n",
      "==>==>==>==>==>==>==>==>==>==>==>==>==>==>==> 0.0\n",
      "   X1  X2  target  weights  y_pred  updated_weights  cumsum_upper  \\\n",
      "1   2   3       1      0.1       1              0.1           0.1   \n",
      "9   9   2       0      0.1       0              0.1           0.2   \n",
      "1   2   3       1      0.1       1              0.1           0.3   \n",
      "1   2   3       1      0.1       1              0.1           0.4   \n",
      "4   5   1       0      0.1       0              0.1           0.5   \n",
      "6   6   5       0      0.1       0              0.1           0.6   \n",
      "9   9   2       0      0.1       0              0.1           0.7   \n",
      "6   6   5       0      0.1       0              0.1           0.8   \n",
      "9   9   2       0      0.1       0              0.1           0.9   \n",
      "9   9   2       0      0.1       0              0.1           1.0   \n",
      "\n",
      "   cumsum_lower  diff  \n",
      "1           0.0   0.1  \n",
      "9           0.1   0.1  \n",
      "1           0.2   0.1  \n",
      "1           0.3   0.1  \n",
      "4           0.4   0.1  \n",
      "6           0.5   0.1  \n",
      "9           0.6   0.1  \n",
      "6           0.7   0.1  \n",
      "9           0.8   0.1  \n",
      "9           0.9   0.1   \n",
      " [6, 4, 4, 6, 1, 9, 1, 6, 9, 9]\n"
     ]
    },
    {
     "data": {
      "text/html": [
       "<div>\n",
       "<style scoped>\n",
       "    .dataframe tbody tr th:only-of-type {\n",
       "        vertical-align: middle;\n",
       "    }\n",
       "\n",
       "    .dataframe tbody tr th {\n",
       "        vertical-align: top;\n",
       "    }\n",
       "\n",
       "    .dataframe thead th {\n",
       "        text-align: right;\n",
       "    }\n",
       "</style>\n",
       "<table border=\"1\" class=\"dataframe\">\n",
       "  <thead>\n",
       "    <tr style=\"text-align: right;\">\n",
       "      <th></th>\n",
       "      <th>X1</th>\n",
       "      <th>X2</th>\n",
       "      <th>target</th>\n",
       "      <th>weights</th>\n",
       "    </tr>\n",
       "  </thead>\n",
       "  <tbody>\n",
       "    <tr>\n",
       "      <th>9</th>\n",
       "      <td>9</td>\n",
       "      <td>2</td>\n",
       "      <td>0</td>\n",
       "      <td>0.1</td>\n",
       "    </tr>\n",
       "    <tr>\n",
       "      <th>4</th>\n",
       "      <td>5</td>\n",
       "      <td>1</td>\n",
       "      <td>0</td>\n",
       "      <td>0.1</td>\n",
       "    </tr>\n",
       "    <tr>\n",
       "      <th>4</th>\n",
       "      <td>5</td>\n",
       "      <td>1</td>\n",
       "      <td>0</td>\n",
       "      <td>0.1</td>\n",
       "    </tr>\n",
       "    <tr>\n",
       "      <th>9</th>\n",
       "      <td>9</td>\n",
       "      <td>2</td>\n",
       "      <td>0</td>\n",
       "      <td>0.1</td>\n",
       "    </tr>\n",
       "    <tr>\n",
       "      <th>9</th>\n",
       "      <td>9</td>\n",
       "      <td>2</td>\n",
       "      <td>0</td>\n",
       "      <td>0.1</td>\n",
       "    </tr>\n",
       "    <tr>\n",
       "      <th>9</th>\n",
       "      <td>9</td>\n",
       "      <td>2</td>\n",
       "      <td>0</td>\n",
       "      <td>0.1</td>\n",
       "    </tr>\n",
       "    <tr>\n",
       "      <th>9</th>\n",
       "      <td>9</td>\n",
       "      <td>2</td>\n",
       "      <td>0</td>\n",
       "      <td>0.1</td>\n",
       "    </tr>\n",
       "    <tr>\n",
       "      <th>9</th>\n",
       "      <td>9</td>\n",
       "      <td>2</td>\n",
       "      <td>0</td>\n",
       "      <td>0.1</td>\n",
       "    </tr>\n",
       "    <tr>\n",
       "      <th>9</th>\n",
       "      <td>9</td>\n",
       "      <td>2</td>\n",
       "      <td>0</td>\n",
       "      <td>0.1</td>\n",
       "    </tr>\n",
       "    <tr>\n",
       "      <th>9</th>\n",
       "      <td>9</td>\n",
       "      <td>2</td>\n",
       "      <td>0</td>\n",
       "      <td>0.1</td>\n",
       "    </tr>\n",
       "  </tbody>\n",
       "</table>\n",
       "</div>"
      ],
      "text/plain": [
       "   X1  X2  target  weights\n",
       "9   9   2       0      0.1\n",
       "4   5   1       0      0.1\n",
       "4   5   1       0      0.1\n",
       "9   9   2       0      0.1\n",
       "9   9   2       0      0.1\n",
       "9   9   2       0      0.1\n",
       "9   9   2       0      0.1\n",
       "9   9   2       0      0.1\n",
       "9   9   2       0      0.1\n",
       "9   9   2       0      0.1"
      ]
     },
     "execution_count": 217,
     "metadata": {},
     "output_type": "execute_result"
    },
    {
     "data": {
      "image/png": "[encoded data removed]",
      "text/plain": [
       "<Figure size 432x288 with 1 Axes>"
      ]
     },
     "metadata": {
      "needs_background": "light"
     },
     "output_type": "display_data"
    }
   ],
   "source": [
    "custom_adaboost(df)"
   ]
  },
  {
   "cell_type": "code",
   "execution_count": 218,
   "id": "36aa7491",
   "metadata": {},
   "outputs": [
    {
     "data": {
      "text/plain": [
       "[0.42364892852693503, 10.361632918473205, 10.361632918473205]"
      ]
     },
     "execution_count": 218,
     "metadata": {},
     "output_type": "execute_result"
    }
   ],
   "source": [
    "alpha_values"
   ]
  },
  {
   "cell_type": "code",
   "execution_count": 219,
   "id": "337b0f33",
   "metadata": {},
   "outputs": [
    {
     "data": {
      "text/html": [
       "<div>\n",
       "<style scoped>\n",
       "    .dataframe tbody tr th:only-of-type {\n",
       "        vertical-align: middle;\n",
       "    }\n",
       "\n",
       "    .dataframe tbody tr th {\n",
       "        vertical-align: top;\n",
       "    }\n",
       "\n",
       "    .dataframe thead th {\n",
       "        text-align: right;\n",
       "    }\n",
       "</style>\n",
       "<table border=\"1\" class=\"dataframe\">\n",
       "  <thead>\n",
       "    <tr style=\"text-align: right;\">\n",
       "      <th></th>\n",
       "      <th>X1</th>\n",
       "      <th>X2</th>\n",
       "      <th>target</th>\n",
       "      <th>weights</th>\n",
       "      <th>y_pred</th>\n",
       "      <th>updated_weights</th>\n",
       "      <th>cumsum_upper</th>\n",
       "      <th>cumsum_lower</th>\n",
       "      <th>diff</th>\n",
       "    </tr>\n",
       "  </thead>\n",
       "  <tbody>\n",
       "    <tr>\n",
       "      <th>0</th>\n",
       "      <td>1</td>\n",
       "      <td>5</td>\n",
       "      <td>1</td>\n",
       "      <td>0.1</td>\n",
       "      <td>1</td>\n",
       "      <td>0.071429</td>\n",
       "      <td>0.071429</td>\n",
       "      <td>0.000000</td>\n",
       "      <td>0.071429</td>\n",
       "    </tr>\n",
       "    <tr>\n",
       "      <th>1</th>\n",
       "      <td>2</td>\n",
       "      <td>3</td>\n",
       "      <td>1</td>\n",
       "      <td>0.1</td>\n",
       "      <td>1</td>\n",
       "      <td>0.071429</td>\n",
       "      <td>0.142857</td>\n",
       "      <td>0.071429</td>\n",
       "      <td>0.071429</td>\n",
       "    </tr>\n",
       "    <tr>\n",
       "      <th>2</th>\n",
       "      <td>3</td>\n",
       "      <td>6</td>\n",
       "      <td>0</td>\n",
       "      <td>0.1</td>\n",
       "      <td>1</td>\n",
       "      <td>0.166667</td>\n",
       "      <td>0.309524</td>\n",
       "      <td>0.142857</td>\n",
       "      <td>0.166667</td>\n",
       "    </tr>\n",
       "    <tr>\n",
       "      <th>3</th>\n",
       "      <td>4</td>\n",
       "      <td>8</td>\n",
       "      <td>1</td>\n",
       "      <td>0.1</td>\n",
       "      <td>1</td>\n",
       "      <td>0.071429</td>\n",
       "      <td>0.380952</td>\n",
       "      <td>0.309524</td>\n",
       "      <td>0.071429</td>\n",
       "    </tr>\n",
       "    <tr>\n",
       "      <th>4</th>\n",
       "      <td>5</td>\n",
       "      <td>1</td>\n",
       "      <td>0</td>\n",
       "      <td>0.1</td>\n",
       "      <td>0</td>\n",
       "      <td>0.071429</td>\n",
       "      <td>0.452381</td>\n",
       "      <td>0.380952</td>\n",
       "      <td>0.071429</td>\n",
       "    </tr>\n",
       "    <tr>\n",
       "      <th>5</th>\n",
       "      <td>6</td>\n",
       "      <td>9</td>\n",
       "      <td>1</td>\n",
       "      <td>0.1</td>\n",
       "      <td>1</td>\n",
       "      <td>0.071429</td>\n",
       "      <td>0.523810</td>\n",
       "      <td>0.452381</td>\n",
       "      <td>0.071429</td>\n",
       "    </tr>\n",
       "    <tr>\n",
       "      <th>6</th>\n",
       "      <td>6</td>\n",
       "      <td>5</td>\n",
       "      <td>0</td>\n",
       "      <td>0.1</td>\n",
       "      <td>1</td>\n",
       "      <td>0.166667</td>\n",
       "      <td>0.690476</td>\n",
       "      <td>0.523810</td>\n",
       "      <td>0.166667</td>\n",
       "    </tr>\n",
       "    <tr>\n",
       "      <th>7</th>\n",
       "      <td>7</td>\n",
       "      <td>8</td>\n",
       "      <td>1</td>\n",
       "      <td>0.1</td>\n",
       "      <td>1</td>\n",
       "      <td>0.071429</td>\n",
       "      <td>0.761905</td>\n",
       "      <td>0.690476</td>\n",
       "      <td>0.071429</td>\n",
       "    </tr>\n",
       "    <tr>\n",
       "      <th>8</th>\n",
       "      <td>9</td>\n",
       "      <td>9</td>\n",
       "      <td>0</td>\n",
       "      <td>0.1</td>\n",
       "      <td>1</td>\n",
       "      <td>0.166667</td>\n",
       "      <td>0.928571</td>\n",
       "      <td>0.761905</td>\n",
       "      <td>0.166667</td>\n",
       "    </tr>\n",
       "    <tr>\n",
       "      <th>9</th>\n",
       "      <td>9</td>\n",
       "      <td>2</td>\n",
       "      <td>0</td>\n",
       "      <td>0.1</td>\n",
       "      <td>0</td>\n",
       "      <td>0.071429</td>\n",
       "      <td>1.000000</td>\n",
       "      <td>0.928571</td>\n",
       "      <td>0.071429</td>\n",
       "    </tr>\n",
       "  </tbody>\n",
       "</table>\n",
       "</div>"
      ],
      "text/plain": [
       "   X1  X2  target  weights  y_pred  updated_weights  cumsum_upper  \\\n",
       "0   1   5       1      0.1       1         0.071429      0.071429   \n",
       "1   2   3       1      0.1       1         0.071429      0.142857   \n",
       "2   3   6       0      0.1       1         0.166667      0.309524   \n",
       "3   4   8       1      0.1       1         0.071429      0.380952   \n",
       "4   5   1       0      0.1       0         0.071429      0.452381   \n",
       "5   6   9       1      0.1       1         0.071429      0.523810   \n",
       "6   6   5       0      0.1       1         0.166667      0.690476   \n",
       "7   7   8       1      0.1       1         0.071429      0.761905   \n",
       "8   9   9       0      0.1       1         0.166667      0.928571   \n",
       "9   9   2       0      0.1       0         0.071429      1.000000   \n",
       "\n",
       "   cumsum_lower      diff  \n",
       "0      0.000000  0.071429  \n",
       "1      0.071429  0.071429  \n",
       "2      0.142857  0.166667  \n",
       "3      0.309524  0.071429  \n",
       "4      0.380952  0.071429  \n",
       "5      0.452381  0.071429  \n",
       "6      0.523810  0.166667  \n",
       "7      0.690476  0.071429  \n",
       "8      0.761905  0.166667  \n",
       "9      0.928571  0.071429  "
      ]
     },
     "execution_count": 219,
     "metadata": {},
     "output_type": "execute_result"
    }
   ],
   "source": [
    "df"
   ]
  },
  {
   "cell_type": "markdown",
   "id": "b272df5d",
   "metadata": {},
   "source": [
    "# Prediction"
   ]
  },
  {
   "cell_type": "code",
   "execution_count": 220,
   "id": "e9632c26",
   "metadata": {},
   "outputs": [],
   "source": [
    "query = np.array([5,1]).reshape(1,2)"
   ]
  },
  {
   "cell_type": "code",
   "execution_count": 225,
   "id": "0c60b68e",
   "metadata": {},
   "outputs": [
    {
     "data": {
      "text/plain": [
       "array([0])"
      ]
     },
     "execution_count": 225,
     "metadata": {},
     "output_type": "execute_result"
    }
   ],
   "source": [
    "dt3.predict(query)"
   ]
  },
  {
   "cell_type": "code",
   "execution_count": 226,
   "id": "2e3f17e0",
   "metadata": {},
   "outputs": [
    {
     "data": {
      "text/plain": [
       "array([0])"
      ]
     },
     "execution_count": 226,
     "metadata": {},
     "output_type": "execute_result"
    }
   ],
   "source": [
    "dt1.predict(query)"
   ]
  },
  {
   "cell_type": "code",
   "execution_count": 227,
   "id": "a431cb30",
   "metadata": {},
   "outputs": [
    {
     "data": {
      "text/plain": [
       "array([0])"
      ]
     },
     "execution_count": 227,
     "metadata": {},
     "output_type": "execute_result"
    }
   ],
   "source": [
    "dt2.predict(query)"
   ]
  },
  {
   "cell_type": "code",
   "execution_count": 228,
   "id": "71c692f2",
   "metadata": {},
   "outputs": [
    {
     "data": {
      "text/plain": [
       "0.0"
      ]
     },
     "execution_count": 228,
     "metadata": {},
     "output_type": "execute_result"
    }
   ],
   "source": [
    "alpha_values[0]*0 + alpha_values[1]*0 + alpha_values[2]*0"
   ]
  },
  {
   "cell_type": "code",
   "execution_count": 230,
   "id": "48b1f778",
   "metadata": {},
   "outputs": [
    {
     "data": {
      "text/plain": [
       "0.0"
      ]
     },
     "execution_count": 230,
     "metadata": {},
     "output_type": "execute_result"
    }
   ],
   "source": [
    "np.sign(0.0)"
   ]
  },
  {
   "cell_type": "code",
   "execution_count": null,
   "id": "5665996f",
   "metadata": {},
   "outputs": [],
   "source": []
  }
 ],
 "metadata": {
  "kernelspec": {
   "display_name": "Python 3 (ipykernel)",
   "language": "python",
   "name": "python3"
  },
  "language_info": {
   "codemirror_mode": {
    "name": "ipython",
    "version": 3
   },
   "file_extension": ".py",
   "mimetype": "text/x-python",
   "name": "python",
   "nbconvert_exporter": "python",
   "pygments_lexer": "ipython3",
   "version": "3.8.8"
  }
 },
 "nbformat": 4,
 "nbformat_minor": 5
}
