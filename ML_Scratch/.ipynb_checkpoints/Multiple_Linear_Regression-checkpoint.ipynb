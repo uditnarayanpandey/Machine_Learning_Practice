{
 "cells": [
  {
   "cell_type": "markdown",
   "metadata": {
    "id": "MecwRdYrpVpB"
   },
   "source": [
    "# **Multiple Linear Regression 🧑** "
   ]
  },
  {
   "cell_type": "markdown",
   "metadata": {
    "id": "m5w5daJQplBk"
   },
   "source": [
    "Multiple linear regression (MLR), also known simply as multiple regression, is a statistical technique that uses several explanatory variables to predict the outcome of a response variable. Multiple regression is an extension of linear (OLS) regression that uses just one explanatory variable.\n",
    "\n",
    "Read more on Multiple Linear regression on [CampusX](https://youtu.be/ashGekqstl8?list=PLKnIA16_Rmvbr7zKYQuBfsVkjoLcJgxHH)"
   ]
  },
  {
   "cell_type": "markdown",
   "metadata": {
    "id": "yPUw6P6RqISy"
   },
   "source": [
    "## **Importing Libraries**\n",
    "![Python-libraries-for-data-analysis.png](data:image/png;base64,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)"
   ]
  },
  {
   "cell_type": "code",
   "execution_count": null,
   "metadata": {
    "id": "P8wDVlhJpRkl"
   },
   "outputs": [],
   "source": [
    "import pandas as pd\n",
    "import numpy as np\n",
    "\n",
    "#visualisation\n",
    "import matplotlib.pyplot as plt\n",
    "\n",
    "#sklearn libraries\n",
    "from sklearn.model_selection import train_test_split\n",
    "from sklearn.datasets import load_diabetes\n",
    "from sklearn.linear_model import LinearRegression\n",
    "from sklearn.metrics import mean_squared_error\n",
    "from sklearn.metrics import r2_score\n",
    "import seaborn as sns"
   ]
  },
  {
   "cell_type": "code",
   "execution_count": null,
   "metadata": {
    "id": "A42-CoT8qV1_"
   },
   "outputs": [],
   "source": [
    "#default size of all the graphs\n",
    "plt.rcParams['figure.figsize'] = (15, 10) "
   ]
  },
  {
   "cell_type": "markdown",
   "metadata": {
    "id": "fhsrdKmgqhIB"
   },
   "source": [
    "## Importing diabetes dataset present in scikitlearn"
   ]
  },
  {
   "cell_type": "code",
   "execution_count": null,
   "metadata": {
    "id": "GkTK37ZBqe_o"
   },
   "outputs": [],
   "source": [
    "X, y = load_diabetes(return_X_y = True)"
   ]
  },
  {
   "cell_type": "code",
   "execution_count": null,
   "metadata": {
    "colab": {
     "base_uri": "https://localhost:8080/"
    },
    "id": "zJmDd_rXrT6P",
    "outputId": "06ed7705-8f23-4140-be30-54eb3d88ee98"
   },
   "outputs": [
    {
     "data": {
      "text/plain": [
       "(442, 10)"
      ]
     },
     "execution_count": 5,
     "metadata": {},
     "output_type": "execute_result"
    }
   ],
   "source": [
    "X.shape"
   ]
  },
  {
   "cell_type": "code",
   "execution_count": null,
   "metadata": {
    "colab": {
     "base_uri": "https://localhost:8080/"
    },
    "id": "kl7Kq4kera3W",
    "outputId": "0c0128bc-b1c1-4200-9045-6e602aea2a64"
   },
   "outputs": [
    {
     "data": {
      "text/plain": [
       "(442,)"
      ]
     },
     "execution_count": 6,
     "metadata": {},
     "output_type": "execute_result"
    }
   ],
   "source": [
    "y.shape"
   ]
  },
  {
   "cell_type": "markdown",
   "metadata": {
    "id": "efsCB1n7tKh3"
   },
   "source": [
    "## Using Sklearn's Linear Regression class"
   ]
  },
  {
   "cell_type": "code",
   "execution_count": null,
   "metadata": {
    "id": "uUfqlRd4rcOk"
   },
   "outputs": [],
   "source": [
    "#splitting data into train & test\n",
    "X_train, X_test, y_train, y_test = train_test_split(X, y, test_size = 0.2, random_state = 2)"
   ]
  },
  {
   "cell_type": "code",
   "execution_count": null,
   "metadata": {
    "colab": {
     "base_uri": "https://localhost:8080/"
    },
    "id": "93gmylLKtWcF",
    "outputId": "54e86e51-42e2-43cb-a013-a13cb54f217e"
   },
   "outputs": [
    {
     "name": "stdout",
     "output_type": "stream",
     "text": [
      "X_train shape :  (353, 10) \n",
      "X_test shape :  (89, 10)\n"
     ]
    }
   ],
   "source": [
    "print('X_train shape : ', X_train.shape, '\\nX_test shape : ', X_test.shape)"
   ]
  },
  {
   "cell_type": "code",
   "execution_count": null,
   "metadata": {
    "id": "shPJ6x7OtjDV"
   },
   "outputs": [],
   "source": [
    "lr = LinearRegression()"
   ]
  },
  {
   "cell_type": "code",
   "execution_count": null,
   "metadata": {
    "colab": {
     "base_uri": "https://localhost:8080/"
    },
    "id": "_KA9-N1ptr4f",
    "outputId": "126b115e-ffb4-448d-f790-e906a578199b"
   },
   "outputs": [
    {
     "data": {
      "text/plain": [
       "LinearRegression()"
      ]
     },
     "execution_count": 10,
     "metadata": {},
     "output_type": "execute_result"
    }
   ],
   "source": [
    "lr.fit(X_train, y_train)"
   ]
  },
  {
   "cell_type": "code",
   "execution_count": null,
   "metadata": {
    "id": "jGxp7qTAtyxI"
   },
   "outputs": [],
   "source": [
    "prediction = lr.predict(X_test)"
   ]
  },
  {
   "cell_type": "markdown",
   "metadata": {
    "id": "vHxMd-Aeu0QN"
   },
   "source": [
    "## Comparing prediction with actual values"
   ]
  },
  {
   "cell_type": "code",
   "execution_count": null,
   "metadata": {
    "colab": {
     "base_uri": "https://localhost:8080/"
    },
    "id": "nL5HximCt3ly",
    "outputId": "5f64d5be-28a9-463d-d62a-a6bbf720f77d"
   },
   "outputs": [
    {
     "data": {
      "text/plain": [
       "[(73.0, 154.123506703738),\n",
       " (233.0, 204.81721598963685),\n",
       " (97.0, 124.92988000671369),\n",
       " (111.0, 106.09339576482785),\n",
       " (277.0, 258.53035681207973),\n",
       " (341.0, 256.3295370198356),\n",
       " (64.0, 118.75258786152196),\n",
       " (68.0, 119.52147401685784),\n",
       " (65.0, 101.50717468400624),\n",
       " (178.0, 190.54137157842365),\n",
       " (142.0, 141.7036026725735),\n",
       " (77.0, 172.5163120395854),\n",
       " (244.0, 174.34089304219324),\n",
       " (115.0, 134.81184017131903),\n",
       " (258.0, 294.13950798193616),\n",
       " (87.0, 94.11403289034124),\n",
       " (220.0, 211.97052873193377),\n",
       " (86.0, 156.49984762251313),\n",
       " (74.0, 134.2070963174097),\n",
       " (132.0, 119.6253472557726),\n",
       " (136.0, 148.88045342661638),\n",
       " (220.0, 165.00378117646068),\n",
       " (91.0, 151.0997730671679),\n",
       " (235.0, 176.03719871812703),\n",
       " (148.0, 133.27651748470794),\n",
       " (317.0, 221.2953122708453),\n",
       " (131.0, 197.17482786926422),\n",
       " (84.0, 96.15923157811608),\n",
       " (65.0, 50.2653157733001),\n",
       " (217.0, 230.48342249443397),\n",
       " (306.0, 242.06266393861702),\n",
       " (79.0, 114.11532619821386),\n",
       " (158.0, 67.07853519893371),\n",
       " (54.0, 94.53179041596032),\n",
       " (123.0, 201.21593261977486),\n",
       " (174.0, 167.05306137789023),\n",
       " (237.0, 159.87838518709617),\n",
       " (212.0, 192.78601513215403),\n",
       " (179.0, 114.49291815922658),\n",
       " (281.0, 233.4825497017389),\n",
       " (187.0, 140.82309665575323),\n",
       " (200.0, 121.06814331790156),\n",
       " (68.0, 192.27431012704102),\n",
       " (163.0, 191.13157307141006),\n",
       " (141.0, 179.16981530469315),\n",
       " (202.0, 148.3514002679729),\n",
       " (178.0, 163.47610288120907),\n",
       " (242.0, 276.8120335916959),\n",
       " (47.0, 100.17813071908748),\n",
       " (131.0, 164.11265162916024),\n",
       " (243.0, 255.81074397818986),\n",
       " (142.0, 136.94979051292796),\n",
       " (200.0, 152.37507828371022),\n",
       " (89.0, 107.92662528381177),\n",
       " (232.0, 194.21661635449522),\n",
       " (55.0, 77.3501542630612),\n",
       " (253.0, 118.50951725367783),\n",
       " (128.0, 68.38527563307099),\n",
       " (104.0, 154.2909402177661),\n",
       " (184.0, 162.48905632466),\n",
       " (110.0, 168.36590928022073),\n",
       " (198.0, 156.87647049589597),\n",
       " (81.0, 97.13958436144118),\n",
       " (195.0, 238.17121803007586),\n",
       " (150.0, 145.46093853607155),\n",
       " (63.0, 117.65678691422802),\n",
       " (151.0, 168.8876869198948),\n",
       " (233.0, 198.38893625153943),\n",
       " (178.0, 118.24408332062548),\n",
       " (84.0, 124.64831032505762),\n",
       " (237.0, 223.17842906801638),\n",
       " (109.0, 200.62634507548074),\n",
       " (131.0, 129.5459127448094),\n",
       " (252.0, 158.15535520074172),\n",
       " (200.0, 154.33593871484163),\n",
       " (160.0, 114.47109854240863),\n",
       " (200.0, 70.45248920034345),\n",
       " (51.0, 76.39237962934622),\n",
       " (111.0, 172.41319557842291),\n",
       " (77.0, 80.5618962833578),\n",
       " (201.0, 80.27309695169347),\n",
       " (88.0, 89.46135201459907),\n",
       " (78.0, 186.21265361405668),\n",
       " (243.0, 275.4660767905011),\n",
       " (268.0, 208.26816596105704),\n",
       " (55.0, 143.79629149791657),\n",
       " (270.0, 291.28438094608816),\n",
       " (288.0, 206.32601302887218),\n",
       " (91.0, 94.22801027644034)]"
      ]
     },
     "execution_count": 12,
     "metadata": {},
     "output_type": "execute_result"
    }
   ],
   "source": [
    "list(zip(y_test, prediction))"
   ]
  },
  {
   "cell_type": "markdown",
   "metadata": {
    "id": "vnXQKR6Cu53w"
   },
   "source": [
    "## Metrics of regression"
   ]
  },
  {
   "cell_type": "code",
   "execution_count": null,
   "metadata": {
    "colab": {
     "base_uri": "https://localhost:8080/"
    },
    "id": "MLow1NyquFdt",
    "outputId": "c4b8f89e-9c0a-4f99-d702-dcc591413827"
   },
   "outputs": [
    {
     "data": {
      "text/plain": [
       "0.4399387660024645"
      ]
     },
     "execution_count": 13,
     "metadata": {},
     "output_type": "execute_result"
    }
   ],
   "source": [
    "r2_score(y_test, prediction)"
   ]
  },
  {
   "cell_type": "code",
   "execution_count": null,
   "metadata": {
    "colab": {
     "base_uri": "https://localhost:8080/"
    },
    "id": "gw0k6dwdudoh",
    "outputId": "ab84f052-b1ed-4879-f0a3-786dca41b274"
   },
   "outputs": [
    {
     "data": {
      "text/plain": [
       "array([  -9.16088483, -205.46225988,  516.68462383,  340.62734108,\n",
       "       -895.54360867,  561.21453306,  153.88478595,  126.73431596,\n",
       "        861.12139955,   52.41982836])"
      ]
     },
     "execution_count": 14,
     "metadata": {},
     "output_type": "execute_result"
    }
   ],
   "source": [
    "lr.coef_"
   ]
  },
  {
   "cell_type": "code",
   "execution_count": null,
   "metadata": {
    "colab": {
     "base_uri": "https://localhost:8080/"
    },
    "id": "gDTyBmLfuny3",
    "outputId": "953a9b00-d341-409d-8d24-37800c6da20c"
   },
   "outputs": [
    {
     "data": {
      "text/plain": [
       "151.88334520854633"
      ]
     },
     "execution_count": 15,
     "metadata": {},
     "output_type": "execute_result"
    }
   ],
   "source": [
    "lr.intercept_"
   ]
  },
  {
   "cell_type": "markdown",
   "metadata": {
    "id": "-ladfAWPvALL"
   },
   "source": [
    "## Making personal class for Multiple Linear Regression"
   ]
  },
  {
   "cell_type": "code",
   "execution_count": null,
   "metadata": {
    "id": "W5ckyw0Iuq15"
   },
   "outputs": [],
   "source": [
    "class MultipleLinearRegression_personal:\n",
    "  def __init__(self, m = None, b = None):\n",
    "    self.coefficient = m\n",
    "    self.intercept = b\n",
    "    \n",
    "  def fit(self, X_train, y_train):\n",
    "    X_train = np.insert(X_train, 0, 1, axis = 1)\n",
    "\n",
    "    #calculating beta coefficients\n",
    "    beta_coef_ = np.linalg.inv(np.dot(X_train.transpose(), X_train)).dot(X_train.T).dot(y_train)\n",
    "    self.intercept = beta_coef_[0]\n",
    "    self.coefficient = beta_coef_[1:]\n",
    "\n",
    "  def predict(self, X_test):\n",
    "    y_pred = np.dot(X_test, self.coefficient) + self.intercept\n",
    "    return y_pred"
   ]
  },
  {
   "cell_type": "code",
   "execution_count": null,
   "metadata": {
    "id": "XNBKOiYVH0Fu"
   },
   "outputs": [],
   "source": [
    "lr = MultipleLinearRegression_personal()"
   ]
  },
  {
   "cell_type": "code",
   "execution_count": null,
   "metadata": {
    "id": "XqfTTYuhI_qR"
   },
   "outputs": [],
   "source": [
    "lr.fit(X_train, y_train)"
   ]
  },
  {
   "cell_type": "code",
   "execution_count": null,
   "metadata": {
    "colab": {
     "base_uri": "https://localhost:8080/"
    },
    "id": "ZH8OBS6_wZwI",
    "outputId": "511e2323-103a-493c-a204-469dc9c0a8c0"
   },
   "outputs": [
    {
     "name": "stdout",
     "output_type": "stream",
     "text": [
      "[154.1235067  204.81721599 124.92988001 106.09339576 258.53035681\n",
      " 256.32953702 118.75258786 119.52147402 101.50717468 190.54137158\n",
      " 141.70360267 172.51631204 174.34089304 134.81184017 294.13950798\n",
      "  94.11403289 211.97052873 156.49984762 134.20709632 119.62534726\n",
      " 148.88045343 165.00378118 151.09977307 176.03719872 133.27651748\n",
      " 221.29531227 197.17482787  96.15923158  50.26531577 230.48342249\n",
      " 242.06266394 114.1153262   67.0785352   94.53179042 201.21593262\n",
      " 167.05306138 159.87838519 192.78601513 114.49291816 233.4825497\n",
      " 140.82309666 121.06814332 192.27431013 191.13157307 179.1698153\n",
      " 148.35140027 163.47610288 276.81203359 100.17813072 164.11265163\n",
      " 255.81074398 136.94979051 152.37507828 107.92662528 194.21661635\n",
      "  77.35015426 118.50951725  68.38527563 154.29094022 162.48905632\n",
      " 168.36590928 156.8764705   97.13958436 238.17121803 145.46093854\n",
      " 117.65678691 168.88768692 198.38893625 118.24408332 124.64831033\n",
      " 223.17842907 200.62634508 129.54591274 158.1553552  154.33593871\n",
      " 114.47109854  70.4524892   76.39237963 172.41319558  80.56189628\n",
      "  80.27309695  89.46135201 186.21265361 275.46607679 208.26816596\n",
      " 143.7962915  291.28438095 206.32601303  94.22801028]\n"
     ]
    }
   ],
   "source": [
    "print(lr.predict(X_test))"
   ]
  },
  {
   "cell_type": "code",
   "execution_count": null,
   "metadata": {
    "id": "0-rMMmqjKYUi"
   },
   "outputs": [],
   "source": []
  }
 ],
 "metadata": {
  "colab": {
   "name": "Multiple Linear Regression.ipynb",
   "provenance": [],
   "toc_visible": true
  },
  "kernelspec": {
   "display_name": "Python 3 (ipykernel)",
   "language": "python",
   "name": "python3"
  },
  "language_info": {
   "codemirror_mode": {
    "name": "ipython",
    "version": 3
   },
   "file_extension": ".py",
   "mimetype": "text/x-python",
   "name": "python",
   "nbconvert_exporter": "python",
   "pygments_lexer": "ipython3",
   "version": "3.8.8"
  }
 },
 "nbformat": 4,
 "nbformat_minor": 1
}
